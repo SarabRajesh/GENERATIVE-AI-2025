{
  "nbformat": 4,
  "nbformat_minor": 0,
  "metadata": {
    "colab": {
      "provenance": [],
      "authorship_tag": "ABX9TyMWY0f7ZJj3VZuEzHbkeDU3",
      "include_colab_link": true
    },
    "kernelspec": {
      "name": "python3",
      "display_name": "Python 3"
    },
    "language_info": {
      "name": "python"
    }
  },
  "cells": [
    {
      "cell_type": "markdown",
      "metadata": {
        "id": "view-in-github",
        "colab_type": "text"
      },
      "source": [
        "<a href=\"https://colab.research.google.com/github/SarabRajesh/GENERATIVE-AI-2025/blob/main/gwnerative_AI_assignment.ipynb\" target=\"_parent\"><img src=\"https://colab.research.google.com/assets/colab-badge.svg\" alt=\"Open In Colab\"/></a>"
      ]
    },
    {
      "cell_type": "code",
      "execution_count": null,
      "metadata": {
        "id": "DIW_Qj06VyjB"
      },
      "outputs": [],
      "source": [
        "from scipy.optimize import linprog"
      ]
    },
    {
      "cell_type": "code",
      "source": [
        "c = [-6, -5]"
      ],
      "metadata": {
        "id": "D-dFN05Qg5lm"
      },
      "execution_count": null,
      "outputs": []
    },
    {
      "cell_type": "code",
      "source": [
        "A = [\n",
        "    [1, 1],   # Milk constraint\n",
        "    [3, 2]    # Choco constraint\n",
        "]"
      ],
      "metadata": {
        "id": "TR7_tJYqg_x1"
      },
      "execution_count": null,
      "outputs": []
    },
    {
      "cell_type": "code",
      "source": [
        "b = [5, 12]"
      ],
      "metadata": {
        "id": "RLpPkAYdhVWe"
      },
      "execution_count": null,
      "outputs": []
    },
    {
      "cell_type": "code",
      "source": [
        "x0_bounds = (0, None)  # A >= 0\n",
        "x1_bounds = (0, None)  # B >= 0"
      ],
      "metadata": {
        "id": "zV7HGm5QhWM9"
      },
      "execution_count": null,
      "outputs": []
    },
    {
      "cell_type": "code",
      "source": [
        "result = linprog(c, A_ub=A, b_ub=b, bounds=[x0_bounds, x1_bounds], method='highs')"
      ],
      "metadata": {
        "id": "PYCQDcobhf2M"
      },
      "execution_count": null,
      "outputs": []
    },
    {
      "cell_type": "code",
      "source": [
        "if result.success:\n",
        "    print(f\"Optimal solution found:\")\n",
        "    print(f\"Units of A to produce: {result.x[0]:.2f}\")\n",
        "    print(f\"Units of B to produce: {result.x[1]:.2f}\")\n",
        "    print(f\"Maximum profit: Rs {-result.fun:.2f}\")\n",
        "else:\n",
        "    print(\"No optimal solution found.\")"
      ],
      "metadata": {
        "colab": {
          "base_uri": "https://localhost:8080/"
        },
        "id": "sUXH0skohk1s",
        "outputId": "26a55466-7131-4f80-cfc6-0614662c3e7d"
      },
      "execution_count": null,
      "outputs": [
        {
          "output_type": "stream",
          "name": "stdout",
          "text": [
            "Optimal solution found:\n",
            "Units of A to produce: 2.00\n",
            "Units of B to produce: 3.00\n",
            "Maximum profit: Rs 27.00\n"
          ]
        }
      ]
    },
    {
      "cell_type": "code",
      "source": [
        "from scipy.optimize import linprog"
      ],
      "metadata": {
        "id": "d-5_2mL2hoPq"
      },
      "execution_count": null,
      "outputs": []
    },
    {
      "cell_type": "code",
      "source": [
        "c = [-120, -50]"
      ],
      "metadata": {
        "id": "8kCTRclDh60B"
      },
      "execution_count": null,
      "outputs": []
    },
    {
      "cell_type": "code",
      "source": [
        "A = [\n",
        "    [1, 1],\n",
        "    [7000, 2000],\n",
        "    [10, 30]\n",
        "]\n",
        "b = [110, 700000, 1200]"
      ],
      "metadata": {
        "id": "uXNfgfuRh7r9"
      },
      "execution_count": null,
      "outputs": []
    },
    {
      "cell_type": "code",
      "source": [
        "x_bounds = (0, None)\n",
        "bounds = [x_bounds, x_bounds]\n"
      ],
      "metadata": {
        "id": "pNSEREeEiAm0"
      },
      "execution_count": null,
      "outputs": []
    },
    {
      "cell_type": "code",
      "source": [
        "result = linprog(c, A_ub=A, b_ub=b, bounds=bounds, method='highs')"
      ],
      "metadata": {
        "id": "r88jNf3OiJZW"
      },
      "execution_count": null,
      "outputs": []
    },
    {
      "cell_type": "code",
      "source": [
        "if result.success:\n",
        "    print(\"Optimal Solution Found!\")\n",
        "    print(f\"Area allocated to Wheat (x1): {result.x[0]:.2f} hectares\")\n",
        "    print(f\"Area allocated to Barley (x2): {result.x[1]:.2f} hectares\")\n",
        "    print(f\"Maximum Profit: Rs. {-result.fun:.2f}\")\n",
        "else:\n",
        "    print(\"No optimal solution found.\")"
      ],
      "metadata": {
        "colab": {
          "base_uri": "https://localhost:8080/"
        },
        "id": "f9Uj1_sBiQDg",
        "outputId": "3ded0c4f-8f84-4185-c9bd-5796231c4d18"
      },
      "execution_count": null,
      "outputs": [
        {
          "output_type": "stream",
          "name": "stdout",
          "text": [
            "Optimal Solution Found!\n",
            "Area allocated to Wheat (x1): 97.89 hectares\n",
            "Area allocated to Barley (x2): 7.37 hectares\n",
            "Maximum Profit: Rs. 12115.79\n"
          ]
        }
      ]
    },
    {
      "cell_type": "code",
      "source": [],
      "metadata": {
        "id": "yo5OnPUJiUJC"
      },
      "execution_count": null,
      "outputs": []
    }
  ]
}